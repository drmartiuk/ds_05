{
 "cells": [
  {
   "cell_type": "markdown",
   "metadata": {},
   "source": [
    "# Определение стоимости автомобилей"
   ]
  },
  {
   "cell_type": "markdown",
   "metadata": {},
   "source": [
    "Сервис по продаже автомобилей с пробегом «Не бит, не крашен» разрабатывает приложение для привлечения новых клиентов. В нём можно быстро узнать рыночную стоимость своего автомобиля. В вашем распоряжении исторические данные: технические характеристики, комплектации и цены автомобилей. Вам нужно построить модель для определения стоимости. \n",
    "\n",
    "Заказчику важны:\n",
    "\n",
    "- качество предсказания;\n",
    "- скорость предсказания;\n",
    "- время обучения."
   ]
  },
  {
   "cell_type": "markdown",
   "metadata": {},
   "source": [
    "## Подготовка данных"
   ]
  },
  {
   "cell_type": "markdown",
   "metadata": {},
   "source": [
    "### Ипорт библиотек"
   ]
  },
  {
   "cell_type": "code",
   "execution_count": 1,
   "metadata": {},
   "outputs": [],
   "source": [
    "#conda install -c conda-forge lightgbm"
   ]
  },
  {
   "cell_type": "code",
   "execution_count": 2,
   "metadata": {},
   "outputs": [
    {
     "name": "stdout",
     "output_type": "stream",
     "text": [
      "Collecting phik\n",
      "  Downloading phik-0.12.4-cp39-cp39-manylinux_2_17_x86_64.manylinux2014_x86_64.whl (686 kB)\n",
      "\u001b[K     |████████████████████████████████| 686 kB 1.1 MB/s eta 0:00:01\n",
      "\u001b[?25hRequirement already satisfied: scipy>=1.5.2 in /opt/conda/lib/python3.9/site-packages (from phik) (1.9.1)\n",
      "Requirement already satisfied: joblib>=0.14.1 in /opt/conda/lib/python3.9/site-packages (from phik) (1.1.0)\n",
      "Requirement already satisfied: numpy>=1.18.0 in /opt/conda/lib/python3.9/site-packages (from phik) (1.21.1)\n",
      "Requirement already satisfied: pandas>=0.25.1 in /opt/conda/lib/python3.9/site-packages (from phik) (1.2.4)\n",
      "Requirement already satisfied: matplotlib>=2.2.3 in /opt/conda/lib/python3.9/site-packages (from phik) (3.3.4)\n",
      "Requirement already satisfied: python-dateutil>=2.1 in /opt/conda/lib/python3.9/site-packages (from matplotlib>=2.2.3->phik) (2.8.1)\n",
      "Requirement already satisfied: pillow>=6.2.0 in /opt/conda/lib/python3.9/site-packages (from matplotlib>=2.2.3->phik) (8.4.0)\n",
      "Requirement already satisfied: pyparsing!=2.0.4,!=2.1.2,!=2.1.6,>=2.0.3 in /opt/conda/lib/python3.9/site-packages (from matplotlib>=2.2.3->phik) (2.4.7)\n",
      "Requirement already satisfied: kiwisolver>=1.0.1 in /opt/conda/lib/python3.9/site-packages (from matplotlib>=2.2.3->phik) (1.4.4)\n",
      "Requirement already satisfied: cycler>=0.10 in /opt/conda/lib/python3.9/site-packages (from matplotlib>=2.2.3->phik) (0.11.0)\n",
      "Requirement already satisfied: pytz>=2017.3 in /opt/conda/lib/python3.9/site-packages (from pandas>=0.25.1->phik) (2021.1)\n",
      "Requirement already satisfied: six>=1.5 in /opt/conda/lib/python3.9/site-packages (from python-dateutil>=2.1->matplotlib>=2.2.3->phik) (1.16.0)\n",
      "Installing collected packages: phik\n",
      "Successfully installed phik-0.12.4\n"
     ]
    }
   ],
   "source": [
    "#!pip3 install catboost\n",
    "!pip install phik"
   ]
  },
  {
   "cell_type": "code",
   "execution_count": 3,
   "metadata": {},
   "outputs": [],
   "source": [
    "import pandas as pd\n",
    "import matplotlib.pyplot as plt\n",
    "import phik\n",
    "import seaborn as sns\n",
    "import time\n",
    "\n",
    "from sklearn.model_selection import GridSearchCV,train_test_split\n",
    "from sklearn.metrics import mean_squared_error\n",
    "from sklearn.preprocessing import OrdinalEncoder\n",
    "from sklearn.linear_model import LinearRegression\n",
    "from sklearn.tree import DecisionTreeRegressor\n",
    "from sklearn.preprocessing import OneHotEncoder \n",
    "from catboost import CatBoostRegressor \n",
    "from sklearn.linear_model import Ridge\n",
    "from lightgbm import LGBMRegressor\n",
    "from sklearn.preprocessing import StandardScaler"
   ]
  },
  {
   "cell_type": "code",
   "execution_count": 4,
   "metadata": {},
   "outputs": [],
   "source": [
    "autos=pd.read_csv('https://code.s3.yandex.net/datasets/autos.csv',sep=',')"
   ]
  },
  {
   "cell_type": "code",
   "execution_count": 5,
   "metadata": {},
   "outputs": [],
   "source": [
    "def dataset_info(dataset,name):\n",
    "    display(f'Анализ датафрейма {name}')\n",
    "    display(dataset.head(5))\n",
    "    display(f'Количество пустых ячеек:')\n",
    "    display(dataset.isnull().sum())\n",
    "    display(dataset.info())\n",
    "    display(f'Количество явных дубликатов в датасете:{dataset.duplicated().sum()}' )\n",
    "    dataset=dataset.drop_duplicates()\n",
    "    display(f'Количество явных дубликатов в датасете после удаления:{dataset.duplicated().sum()}' )\n"
   ]
  },
  {
   "cell_type": "code",
   "execution_count": 6,
   "metadata": {},
   "outputs": [
    {
     "data": {
      "text/plain": [
       "'Анализ датафрейма autos'"
      ]
     },
     "metadata": {},
     "output_type": "display_data"
    },
    {
     "data": {
      "text/html": [
       "<div>\n",
       "<style scoped>\n",
       "    .dataframe tbody tr th:only-of-type {\n",
       "        vertical-align: middle;\n",
       "    }\n",
       "\n",
       "    .dataframe tbody tr th {\n",
       "        vertical-align: top;\n",
       "    }\n",
       "\n",
       "    .dataframe thead th {\n",
       "        text-align: right;\n",
       "    }\n",
       "</style>\n",
       "<table border=\"1\" class=\"dataframe\">\n",
       "  <thead>\n",
       "    <tr style=\"text-align: right;\">\n",
       "      <th></th>\n",
       "      <th>DateCrawled</th>\n",
       "      <th>Price</th>\n",
       "      <th>VehicleType</th>\n",
       "      <th>RegistrationYear</th>\n",
       "      <th>Gearbox</th>\n",
       "      <th>Power</th>\n",
       "      <th>Model</th>\n",
       "      <th>Kilometer</th>\n",
       "      <th>RegistrationMonth</th>\n",
       "      <th>FuelType</th>\n",
       "      <th>Brand</th>\n",
       "      <th>Repaired</th>\n",
       "      <th>DateCreated</th>\n",
       "      <th>NumberOfPictures</th>\n",
       "      <th>PostalCode</th>\n",
       "      <th>LastSeen</th>\n",
       "    </tr>\n",
       "  </thead>\n",
       "  <tbody>\n",
       "    <tr>\n",
       "      <th>0</th>\n",
       "      <td>2016-03-24 11:52:17</td>\n",
       "      <td>480</td>\n",
       "      <td>NaN</td>\n",
       "      <td>1993</td>\n",
       "      <td>manual</td>\n",
       "      <td>0</td>\n",
       "      <td>golf</td>\n",
       "      <td>150000</td>\n",
       "      <td>0</td>\n",
       "      <td>petrol</td>\n",
       "      <td>volkswagen</td>\n",
       "      <td>NaN</td>\n",
       "      <td>2016-03-24 00:00:00</td>\n",
       "      <td>0</td>\n",
       "      <td>70435</td>\n",
       "      <td>2016-04-07 03:16:57</td>\n",
       "    </tr>\n",
       "    <tr>\n",
       "      <th>1</th>\n",
       "      <td>2016-03-24 10:58:45</td>\n",
       "      <td>18300</td>\n",
       "      <td>coupe</td>\n",
       "      <td>2011</td>\n",
       "      <td>manual</td>\n",
       "      <td>190</td>\n",
       "      <td>NaN</td>\n",
       "      <td>125000</td>\n",
       "      <td>5</td>\n",
       "      <td>gasoline</td>\n",
       "      <td>audi</td>\n",
       "      <td>yes</td>\n",
       "      <td>2016-03-24 00:00:00</td>\n",
       "      <td>0</td>\n",
       "      <td>66954</td>\n",
       "      <td>2016-04-07 01:46:50</td>\n",
       "    </tr>\n",
       "    <tr>\n",
       "      <th>2</th>\n",
       "      <td>2016-03-14 12:52:21</td>\n",
       "      <td>9800</td>\n",
       "      <td>suv</td>\n",
       "      <td>2004</td>\n",
       "      <td>auto</td>\n",
       "      <td>163</td>\n",
       "      <td>grand</td>\n",
       "      <td>125000</td>\n",
       "      <td>8</td>\n",
       "      <td>gasoline</td>\n",
       "      <td>jeep</td>\n",
       "      <td>NaN</td>\n",
       "      <td>2016-03-14 00:00:00</td>\n",
       "      <td>0</td>\n",
       "      <td>90480</td>\n",
       "      <td>2016-04-05 12:47:46</td>\n",
       "    </tr>\n",
       "    <tr>\n",
       "      <th>3</th>\n",
       "      <td>2016-03-17 16:54:04</td>\n",
       "      <td>1500</td>\n",
       "      <td>small</td>\n",
       "      <td>2001</td>\n",
       "      <td>manual</td>\n",
       "      <td>75</td>\n",
       "      <td>golf</td>\n",
       "      <td>150000</td>\n",
       "      <td>6</td>\n",
       "      <td>petrol</td>\n",
       "      <td>volkswagen</td>\n",
       "      <td>no</td>\n",
       "      <td>2016-03-17 00:00:00</td>\n",
       "      <td>0</td>\n",
       "      <td>91074</td>\n",
       "      <td>2016-03-17 17:40:17</td>\n",
       "    </tr>\n",
       "    <tr>\n",
       "      <th>4</th>\n",
       "      <td>2016-03-31 17:25:20</td>\n",
       "      <td>3600</td>\n",
       "      <td>small</td>\n",
       "      <td>2008</td>\n",
       "      <td>manual</td>\n",
       "      <td>69</td>\n",
       "      <td>fabia</td>\n",
       "      <td>90000</td>\n",
       "      <td>7</td>\n",
       "      <td>gasoline</td>\n",
       "      <td>skoda</td>\n",
       "      <td>no</td>\n",
       "      <td>2016-03-31 00:00:00</td>\n",
       "      <td>0</td>\n",
       "      <td>60437</td>\n",
       "      <td>2016-04-06 10:17:21</td>\n",
       "    </tr>\n",
       "  </tbody>\n",
       "</table>\n",
       "</div>"
      ],
      "text/plain": [
       "           DateCrawled  Price VehicleType  RegistrationYear Gearbox  Power  \\\n",
       "0  2016-03-24 11:52:17    480         NaN              1993  manual      0   \n",
       "1  2016-03-24 10:58:45  18300       coupe              2011  manual    190   \n",
       "2  2016-03-14 12:52:21   9800         suv              2004    auto    163   \n",
       "3  2016-03-17 16:54:04   1500       small              2001  manual     75   \n",
       "4  2016-03-31 17:25:20   3600       small              2008  manual     69   \n",
       "\n",
       "   Model  Kilometer  RegistrationMonth  FuelType       Brand Repaired  \\\n",
       "0   golf     150000                  0    petrol  volkswagen      NaN   \n",
       "1    NaN     125000                  5  gasoline        audi      yes   \n",
       "2  grand     125000                  8  gasoline        jeep      NaN   \n",
       "3   golf     150000                  6    petrol  volkswagen       no   \n",
       "4  fabia      90000                  7  gasoline       skoda       no   \n",
       "\n",
       "           DateCreated  NumberOfPictures  PostalCode             LastSeen  \n",
       "0  2016-03-24 00:00:00                 0       70435  2016-04-07 03:16:57  \n",
       "1  2016-03-24 00:00:00                 0       66954  2016-04-07 01:46:50  \n",
       "2  2016-03-14 00:00:00                 0       90480  2016-04-05 12:47:46  \n",
       "3  2016-03-17 00:00:00                 0       91074  2016-03-17 17:40:17  \n",
       "4  2016-03-31 00:00:00                 0       60437  2016-04-06 10:17:21  "
      ]
     },
     "metadata": {},
     "output_type": "display_data"
    },
    {
     "data": {
      "text/plain": [
       "'Количество пустых ячеек:'"
      ]
     },
     "metadata": {},
     "output_type": "display_data"
    },
    {
     "data": {
      "text/plain": [
       "DateCrawled              0\n",
       "Price                    0\n",
       "VehicleType          37490\n",
       "RegistrationYear         0\n",
       "Gearbox              19833\n",
       "Power                    0\n",
       "Model                19705\n",
       "Kilometer                0\n",
       "RegistrationMonth        0\n",
       "FuelType             32895\n",
       "Brand                    0\n",
       "Repaired             71154\n",
       "DateCreated              0\n",
       "NumberOfPictures         0\n",
       "PostalCode               0\n",
       "LastSeen                 0\n",
       "dtype: int64"
      ]
     },
     "metadata": {},
     "output_type": "display_data"
    },
    {
     "name": "stdout",
     "output_type": "stream",
     "text": [
      "<class 'pandas.core.frame.DataFrame'>\n",
      "RangeIndex: 354369 entries, 0 to 354368\n",
      "Data columns (total 16 columns):\n",
      " #   Column             Non-Null Count   Dtype \n",
      "---  ------             --------------   ----- \n",
      " 0   DateCrawled        354369 non-null  object\n",
      " 1   Price              354369 non-null  int64 \n",
      " 2   VehicleType        316879 non-null  object\n",
      " 3   RegistrationYear   354369 non-null  int64 \n",
      " 4   Gearbox            334536 non-null  object\n",
      " 5   Power              354369 non-null  int64 \n",
      " 6   Model              334664 non-null  object\n",
      " 7   Kilometer          354369 non-null  int64 \n",
      " 8   RegistrationMonth  354369 non-null  int64 \n",
      " 9   FuelType           321474 non-null  object\n",
      " 10  Brand              354369 non-null  object\n",
      " 11  Repaired           283215 non-null  object\n",
      " 12  DateCreated        354369 non-null  object\n",
      " 13  NumberOfPictures   354369 non-null  int64 \n",
      " 14  PostalCode         354369 non-null  int64 \n",
      " 15  LastSeen           354369 non-null  object\n",
      "dtypes: int64(7), object(9)\n",
      "memory usage: 43.3+ MB\n"
     ]
    },
    {
     "data": {
      "text/plain": [
       "None"
      ]
     },
     "metadata": {},
     "output_type": "display_data"
    },
    {
     "data": {
      "text/plain": [
       "'Количество явных дубликатов в датасете:4'"
      ]
     },
     "metadata": {},
     "output_type": "display_data"
    },
    {
     "data": {
      "text/plain": [
       "'Количество явных дубликатов в датасете после удаления:0'"
      ]
     },
     "metadata": {},
     "output_type": "display_data"
    }
   ],
   "source": [
    "dataset_info(autos, 'autos')"
   ]
  },
  {
   "cell_type": "markdown",
   "metadata": {},
   "source": [
    "###  Выводы\n",
    "По результатам загрузки файла можно сделать выводы, что требуется изменение форматов некоторых столбцов, присутствуют явные дубликаты (удалены 4шт), большое количество пустых ячеек (предварительно пока строки с ними удалять не будем, а далее заменим наиболее часто встречающимся в категории бренда)"
   ]
  },
  {
   "cell_type": "code",
   "execution_count": 7,
   "metadata": {},
   "outputs": [],
   "source": [
    "def graphs(dataset,name):\n",
    "    display(f'Анализ количественных признаков датафрейма {name}')\n",
    "    display(dataset.describe())\n",
    "    for j in dataset.columns:\n",
    "        if dataset[j].dtype!=object:\n",
    "            fig = plt.hist(dataset[j],color = 'blue', edgecolor = 'black',bins = 50)\n",
    "            plt.xlabel(j)\n",
    "            plt.ylabel('Количество')\n",
    "            plt.title(f'Анализ столбца {j}',fontweight = \"bold\")\n",
    "            plt.show()\n",
    "            dataset.boxplot([j])\n",
    "            plt.title(f'Boxplot для  столбца {j}')\n",
    "            plt.show()"
   ]
  },
  {
   "cell_type": "code",
   "execution_count": 8,
   "metadata": {},
   "outputs": [
    {
     "data": {
      "text/plain": [
       "'Анализ количественных признаков датафрейма autos'"
      ]
     },
     "metadata": {},
     "output_type": "display_data"
    },
    {
     "data": {
      "text/html": [
       "<div>\n",
       "<style scoped>\n",
       "    .dataframe tbody tr th:only-of-type {\n",
       "        vertical-align: middle;\n",
       "    }\n",
       "\n",
       "    .dataframe tbody tr th {\n",
       "        vertical-align: top;\n",
       "    }\n",
       "\n",
       "    .dataframe thead th {\n",
       "        text-align: right;\n",
       "    }\n",
       "</style>\n",
       "<table border=\"1\" class=\"dataframe\">\n",
       "  <thead>\n",
       "    <tr style=\"text-align: right;\">\n",
       "      <th></th>\n",
       "      <th>Price</th>\n",
       "      <th>RegistrationYear</th>\n",
       "      <th>Power</th>\n",
       "      <th>Kilometer</th>\n",
       "      <th>RegistrationMonth</th>\n",
       "      <th>NumberOfPictures</th>\n",
       "      <th>PostalCode</th>\n",
       "    </tr>\n",
       "  </thead>\n",
       "  <tbody>\n",
       "    <tr>\n",
       "      <th>count</th>\n",
       "      <td>354369.000000</td>\n",
       "      <td>354369.000000</td>\n",
       "      <td>354369.000000</td>\n",
       "      <td>354369.000000</td>\n",
       "      <td>354369.000000</td>\n",
       "      <td>354369.0</td>\n",
       "      <td>354369.000000</td>\n",
       "    </tr>\n",
       "    <tr>\n",
       "      <th>mean</th>\n",
       "      <td>4416.656776</td>\n",
       "      <td>2004.234448</td>\n",
       "      <td>110.094337</td>\n",
       "      <td>128211.172535</td>\n",
       "      <td>5.714645</td>\n",
       "      <td>0.0</td>\n",
       "      <td>50508.689087</td>\n",
       "    </tr>\n",
       "    <tr>\n",
       "      <th>std</th>\n",
       "      <td>4514.158514</td>\n",
       "      <td>90.227958</td>\n",
       "      <td>189.850405</td>\n",
       "      <td>37905.341530</td>\n",
       "      <td>3.726421</td>\n",
       "      <td>0.0</td>\n",
       "      <td>25783.096248</td>\n",
       "    </tr>\n",
       "    <tr>\n",
       "      <th>min</th>\n",
       "      <td>0.000000</td>\n",
       "      <td>1000.000000</td>\n",
       "      <td>0.000000</td>\n",
       "      <td>5000.000000</td>\n",
       "      <td>0.000000</td>\n",
       "      <td>0.0</td>\n",
       "      <td>1067.000000</td>\n",
       "    </tr>\n",
       "    <tr>\n",
       "      <th>25%</th>\n",
       "      <td>1050.000000</td>\n",
       "      <td>1999.000000</td>\n",
       "      <td>69.000000</td>\n",
       "      <td>125000.000000</td>\n",
       "      <td>3.000000</td>\n",
       "      <td>0.0</td>\n",
       "      <td>30165.000000</td>\n",
       "    </tr>\n",
       "    <tr>\n",
       "      <th>50%</th>\n",
       "      <td>2700.000000</td>\n",
       "      <td>2003.000000</td>\n",
       "      <td>105.000000</td>\n",
       "      <td>150000.000000</td>\n",
       "      <td>6.000000</td>\n",
       "      <td>0.0</td>\n",
       "      <td>49413.000000</td>\n",
       "    </tr>\n",
       "    <tr>\n",
       "      <th>75%</th>\n",
       "      <td>6400.000000</td>\n",
       "      <td>2008.000000</td>\n",
       "      <td>143.000000</td>\n",
       "      <td>150000.000000</td>\n",
       "      <td>9.000000</td>\n",
       "      <td>0.0</td>\n",
       "      <td>71083.000000</td>\n",
       "    </tr>\n",
       "    <tr>\n",
       "      <th>max</th>\n",
       "      <td>20000.000000</td>\n",
       "      <td>9999.000000</td>\n",
       "      <td>20000.000000</td>\n",
       "      <td>150000.000000</td>\n",
       "      <td>12.000000</td>\n",
       "      <td>0.0</td>\n",
       "      <td>99998.000000</td>\n",
       "    </tr>\n",
       "  </tbody>\n",
       "</table>\n",
       "</div>"
      ],
      "text/plain": [
       "               Price  RegistrationYear          Power      Kilometer  \\\n",
       "count  354369.000000     354369.000000  354369.000000  354369.000000   \n",
       "mean     4416.656776       2004.234448     110.094337  128211.172535   \n",
       "std      4514.158514         90.227958     189.850405   37905.341530   \n",
       "min         0.000000       1000.000000       0.000000    5000.000000   \n",
       "25%      1050.000000       1999.000000      69.000000  125000.000000   \n",
       "50%      2700.000000       2003.000000     105.000000  150000.000000   \n",
       "75%      6400.000000       2008.000000     143.000000  150000.000000   \n",
       "max     20000.000000       9999.000000   20000.000000  150000.000000   \n",
       "\n",
       "       RegistrationMonth  NumberOfPictures     PostalCode  \n",
       "count      354369.000000          354369.0  354369.000000  \n",
       "mean            5.714645               0.0   50508.689087  \n",
       "std             3.726421               0.0   25783.096248  \n",
       "min             0.000000               0.0    1067.000000  \n",
       "25%             3.000000               0.0   30165.000000  \n",
       "50%             6.000000               0.0   49413.000000  \n",
       "75%             9.000000               0.0   71083.000000  \n",
       "max            12.000000               0.0   99998.000000  "
      ]
     },
     "metadata": {},
     "output_type": "display_data"
    },
    {
     "data": {
      "image/png": "[encoded data removed]",
      "text/plain": [
       "<Figure size 432x288 with 1 Axes>"
      ]
     },
     "metadata": {
      "needs_background": "light"
     },
     "output_type": "display_data"
    },
    {
     "data": {
      "image/png": "[encoded data removed]",
      "text/plain": [
       "<Figure size 432x288 with 1 Axes>"
      ]
     },
     "metadata": {
      "needs_background": "light"
     },
     "output_type": "display_data"
    },
    {
     "data": {
      "image/png": "[encoded data removed]",
      "text/plain": [
       "<Figure size 432x288 with 1 Axes>"
      ]
     },
     "metadata": {
      "needs_background": "light"
     },
     "output_type": "display_data"
    },
    {
     "data": {
      "image/png": "[encoded data removed]",
      "text/plain": [
       "<Figure size 432x288 with 1 Axes>"
      ]
     },
     "metadata": {
      "needs_background": "light"
     },
     "output_type": "display_data"
    },
    {
     "data": {
      "image/png": "[encoded data removed]",
      "text/plain": [
       "<Figure size 432x288 with 1 Axes>"
      ]
     },
     "metadata": {
      "needs_background": "light"
     },
     "output_type": "display_data"
    },
    {
     "data": {
      "image/png": "[encoded data removed]",
      "text/plain": [
       "<Figure size 432x288 with 1 Axes>"
      ]
     },
     "metadata": {
      "needs_background": "light"
     },
     "output_type": "display_data"
    },
    {
     "data": {
      "image/png": "[encoded data removed]",
      "text/plain": [
       "<Figure size 432x288 with 1 Axes>"
      ]
     },
     "metadata": {
      "needs_background": "light"
     },
     "output_type": "display_data"
    },
    {
     "data": {
      "image/png": "[encoded data removed]",
      "text/plain": [
       "<Figure size 432x288 with 1 Axes>"
      ]
     },
     "metadata": {
      "needs_background": "light"
     },
     "output_type": "display_data"
    },
    {
     "data": {
      "image/png": "[encoded data removed]",
      "text/plain": [
       "<Figure size 432x288 with 1 Axes>"
      ]
     },
     "metadata": {
      "needs_background": "light"
     },
     "output_type": "display_data"
    },
    {
     "data": {
      "image/png": "[encoded data removed]",
      "text/plain": [
       "<Figure size 432x288 with 1 Axes>"
      ]
     },
     "metadata": {
      "needs_background": "light"
     },
     "output_type": "display_data"
    },
    {
     "data": {
      "image/png": "[encoded data removed]",
      "text/plain": [
       "<Figure size 432x288 with 1 Axes>"
      ]
     },
     "metadata": {
      "needs_background": "light"
     },
     "output_type": "display_data"
    },
    {
     "data": {
      "image/png": "[encoded data removed]",
      "text/plain": [
       "<Figure size 432x288 with 1 Axes>"
      ]
     },
     "metadata": {
      "needs_background": "light"
     },
     "output_type": "display_data"
    },
    {
     "data": {
      "image/png": "[encoded data removed]",
      "text/plain": [
       "<Figure size 432x288 with 1 Axes>"
      ]
     },
     "metadata": {
      "needs_background": "light"
     },
     "output_type": "display_data"
    },
    {
     "data": {
      "image/png": "[encoded data removed]",
      "text/plain": [
       "<Figure size 432x288 with 1 Axes>"
      ]
     },
     "metadata": {
      "needs_background": "light"
     },
     "output_type": "display_data"
    }
   ],
   "source": [
    "graphs(autos, 'autos')"
   ]
  },
  {
   "cell_type": "markdown",
   "metadata": {},
   "source": [
    "###  Выводы\n",
    "В датафрейме присутствуют обьявления без цены ,мощностью более 1500,годом регистрации старшее 2024, столбец 'NumberOfPictures' не содержит уникальных значений. Удалим данные аномалии"
   ]
  },
  {
   "cell_type": "code",
   "execution_count": 9,
   "metadata": {},
   "outputs": [],
   "source": [
    "autos = autos.drop(autos[autos['Price']==0].index)"
   ]
  },
  {
   "cell_type": "code",
   "execution_count": 10,
   "metadata": {},
   "outputs": [],
   "source": [
    "autos=autos.reset_index()\n",
    "autos['DateCreated'] = pd.to_datetime(autos['DateCreated']).dt.normalize()\n",
    "autos['DateCrawled'] = pd.to_datetime(autos['DateCrawled']).dt.normalize()\n",
    "for i in range(len(autos)):\n",
    "    if autos.loc[i,'DateCrawled']<autos.loc[i,'DateCreated']:\n",
    "        autos.loc[i,'DateCreated'] = autos.loc[i,'DateCrawled']\n",
    "    if pd.DatetimeIndex([autos.loc[i,'DateCrawled']]).year <=autos.loc[i,'RegistrationYear']:\n",
    "        autos.loc[i,'RegistrationYear']=pd.DatetimeIndex([autos.loc[i,'DateCrawled']]).year\n",
    "autos = autos.drop(autos[autos['RegistrationYear']<1980].index)"
   ]
  },
  {
   "cell_type": "code",
   "execution_count": 11,
   "metadata": {},
   "outputs": [],
   "source": [
    "autos = autos.drop(autos[autos['Power']>1500].index)\n",
    "autos=autos.drop('NumberOfPictures',axis=1).reset_index()"
   ]
  },
  {
   "cell_type": "code",
   "execution_count": 12,
   "metadata": {},
   "outputs": [],
   "source": [
    "autos = autos.drop(autos[autos['Power']==0].index)"
   ]
  },
  {
   "cell_type": "code",
   "execution_count": 13,
   "metadata": {},
   "outputs": [],
   "source": [
    "list_category=['Model','Gearbox','Power','VehicleType','FuelType','Repaired']\n",
    "list_of_brand=autos['Brand'].unique()\n",
    "for i in list_category:\n",
    "    data_brand=pd.DataFrame()\n",
    "    temp=pd.pivot_table(autos.query(\"Power!=0\"),index=['Brand',i],values=['DateCrawled'],aggfunc='count').reset_index()\n",
    "    for j in list_of_brand:\n",
    "        data_brand=pd.concat([data_brand,temp.query('Brand==@j').sort_values(by='DateCrawled',ascending=False).head(1)])\n",
    "    data_brand=data_brand.reset_index()\n",
    "    for k in range(len(data_brand)):\n",
    "        autos.loc[(autos['Brand']==data_brand.loc[k, \"Brand\"]) & (autos[i].isnull()), i] = data_brand.loc[k, i]"
   ]
  },
  {
   "cell_type": "code",
   "execution_count": 14,
   "metadata": {},
   "outputs": [
    {
     "data": {
      "text/plain": [
       "'Анализ датафрейма autos'"
      ]
     },
     "metadata": {},
     "output_type": "display_data"
    },
    {
     "data": {
      "text/html": [
       "<div>\n",
       "<style scoped>\n",
       "    .dataframe tbody tr th:only-of-type {\n",
       "        vertical-align: middle;\n",
       "    }\n",
       "\n",
       "    .dataframe tbody tr th {\n",
       "        vertical-align: top;\n",
       "    }\n",
       "\n",
       "    .dataframe thead th {\n",
       "        text-align: right;\n",
       "    }\n",
       "</style>\n",
       "<table border=\"1\" class=\"dataframe\">\n",
       "  <thead>\n",
       "    <tr style=\"text-align: right;\">\n",
       "      <th></th>\n",
       "      <th>level_0</th>\n",
       "      <th>index</th>\n",
       "      <th>DateCrawled</th>\n",
       "      <th>Price</th>\n",
       "      <th>VehicleType</th>\n",
       "      <th>RegistrationYear</th>\n",
       "      <th>Gearbox</th>\n",
       "      <th>Power</th>\n",
       "      <th>Model</th>\n",
       "      <th>Kilometer</th>\n",
       "      <th>RegistrationMonth</th>\n",
       "      <th>FuelType</th>\n",
       "      <th>Brand</th>\n",
       "      <th>Repaired</th>\n",
       "      <th>DateCreated</th>\n",
       "      <th>PostalCode</th>\n",
       "      <th>LastSeen</th>\n",
       "    </tr>\n",
       "  </thead>\n",
       "  <tbody>\n",
       "    <tr>\n",
       "      <th>1</th>\n",
       "      <td>1</td>\n",
       "      <td>1</td>\n",
       "      <td>2016-03-24</td>\n",
       "      <td>18300</td>\n",
       "      <td>coupe</td>\n",
       "      <td>2011</td>\n",
       "      <td>manual</td>\n",
       "      <td>190</td>\n",
       "      <td>a4</td>\n",
       "      <td>125000</td>\n",
       "      <td>5</td>\n",
       "      <td>gasoline</td>\n",
       "      <td>audi</td>\n",
       "      <td>yes</td>\n",
       "      <td>2016-03-24</td>\n",
       "      <td>66954</td>\n",
       "      <td>2016-04-07 01:46:50</td>\n",
       "    </tr>\n",
       "    <tr>\n",
       "      <th>2</th>\n",
       "      <td>2</td>\n",
       "      <td>2</td>\n",
       "      <td>2016-03-14</td>\n",
       "      <td>9800</td>\n",
       "      <td>suv</td>\n",
       "      <td>2004</td>\n",
       "      <td>auto</td>\n",
       "      <td>163</td>\n",
       "      <td>grand</td>\n",
       "      <td>125000</td>\n",
       "      <td>8</td>\n",
       "      <td>gasoline</td>\n",
       "      <td>jeep</td>\n",
       "      <td>no</td>\n",
       "      <td>2016-03-14</td>\n",
       "      <td>90480</td>\n",
       "      <td>2016-04-05 12:47:46</td>\n",
       "    </tr>\n",
       "    <tr>\n",
       "      <th>3</th>\n",
       "      <td>3</td>\n",
       "      <td>3</td>\n",
       "      <td>2016-03-17</td>\n",
       "      <td>1500</td>\n",
       "      <td>small</td>\n",
       "      <td>2001</td>\n",
       "      <td>manual</td>\n",
       "      <td>75</td>\n",
       "      <td>golf</td>\n",
       "      <td>150000</td>\n",
       "      <td>6</td>\n",
       "      <td>petrol</td>\n",
       "      <td>volkswagen</td>\n",
       "      <td>no</td>\n",
       "      <td>2016-03-17</td>\n",
       "      <td>91074</td>\n",
       "      <td>2016-03-17 17:40:17</td>\n",
       "    </tr>\n",
       "    <tr>\n",
       "      <th>4</th>\n",
       "      <td>4</td>\n",
       "      <td>4</td>\n",
       "      <td>2016-03-31</td>\n",
       "      <td>3600</td>\n",
       "      <td>small</td>\n",
       "      <td>2008</td>\n",
       "      <td>manual</td>\n",
       "      <td>69</td>\n",
       "      <td>fabia</td>\n",
       "      <td>90000</td>\n",
       "      <td>7</td>\n",
       "      <td>gasoline</td>\n",
       "      <td>skoda</td>\n",
       "      <td>no</td>\n",
       "      <td>2016-03-31</td>\n",
       "      <td>60437</td>\n",
       "      <td>2016-04-06 10:17:21</td>\n",
       "    </tr>\n",
       "    <tr>\n",
       "      <th>5</th>\n",
       "      <td>5</td>\n",
       "      <td>5</td>\n",
       "      <td>2016-04-04</td>\n",
       "      <td>650</td>\n",
       "      <td>sedan</td>\n",
       "      <td>1995</td>\n",
       "      <td>manual</td>\n",
       "      <td>102</td>\n",
       "      <td>3er</td>\n",
       "      <td>150000</td>\n",
       "      <td>10</td>\n",
       "      <td>petrol</td>\n",
       "      <td>bmw</td>\n",
       "      <td>yes</td>\n",
       "      <td>2016-04-04</td>\n",
       "      <td>33775</td>\n",
       "      <td>2016-04-06 19:17:07</td>\n",
       "    </tr>\n",
       "  </tbody>\n",
       "</table>\n",
       "</div>"
      ],
      "text/plain": [
       "   level_0  index DateCrawled  Price VehicleType  RegistrationYear Gearbox  \\\n",
       "1        1      1  2016-03-24  18300       coupe              2011  manual   \n",
       "2        2      2  2016-03-14   9800         suv              2004    auto   \n",
       "3        3      3  2016-03-17   1500       small              2001  manual   \n",
       "4        4      4  2016-03-31   3600       small              2008  manual   \n",
       "5        5      5  2016-04-04    650       sedan              1995  manual   \n",
       "\n",
       "   Power  Model  Kilometer  RegistrationMonth  FuelType       Brand Repaired  \\\n",
       "1    190     a4     125000                  5  gasoline        audi      yes   \n",
       "2    163  grand     125000                  8  gasoline        jeep       no   \n",
       "3     75   golf     150000                  6    petrol  volkswagen       no   \n",
       "4     69  fabia      90000                  7  gasoline       skoda       no   \n",
       "5    102    3er     150000                 10    petrol         bmw      yes   \n",
       "\n",
       "  DateCreated  PostalCode             LastSeen  \n",
       "1  2016-03-24       66954  2016-04-07 01:46:50  \n",
       "2  2016-03-14       90480  2016-04-05 12:47:46  \n",
       "3  2016-03-17       91074  2016-03-17 17:40:17  \n",
       "4  2016-03-31       60437  2016-04-06 10:17:21  \n",
       "5  2016-04-04       33775  2016-04-06 19:17:07  "
      ]
     },
     "metadata": {},
     "output_type": "display_data"
    },
    {
     "data": {
      "text/plain": [
       "'Количество пустых ячеек:'"
      ]
     },
     "metadata": {},
     "output_type": "display_data"
    },
    {
     "data": {
      "text/plain": [
       "level_0                 0\n",
       "index                   0\n",
       "DateCrawled             0\n",
       "Price                   0\n",
       "VehicleType             0\n",
       "RegistrationYear        0\n",
       "Gearbox                 0\n",
       "Power                   0\n",
       "Model                1529\n",
       "Kilometer               0\n",
       "RegistrationMonth       0\n",
       "FuelType                0\n",
       "Brand                   0\n",
       "Repaired                0\n",
       "DateCreated             0\n",
       "PostalCode              0\n",
       "LastSeen                0\n",
       "dtype: int64"
      ]
     },
     "metadata": {},
     "output_type": "display_data"
    },
    {
     "name": "stdout",
     "output_type": "stream",
     "text": [
      "<class 'pandas.core.frame.DataFrame'>\n",
      "Int64Index: 304823 entries, 1 to 340245\n",
      "Data columns (total 17 columns):\n",
      " #   Column             Non-Null Count   Dtype         \n",
      "---  ------             --------------   -----         \n",
      " 0   level_0            304823 non-null  int64         \n",
      " 1   index              304823 non-null  int64         \n",
      " 2   DateCrawled        304823 non-null  datetime64[ns]\n",
      " 3   Price              304823 non-null  int64         \n",
      " 4   VehicleType        304823 non-null  object        \n",
      " 5   RegistrationYear   304823 non-null  int64         \n",
      " 6   Gearbox            304823 non-null  object        \n",
      " 7   Power              304823 non-null  int64         \n",
      " 8   Model              303294 non-null  object        \n",
      " 9   Kilometer          304823 non-null  int64         \n",
      " 10  RegistrationMonth  304823 non-null  int64         \n",
      " 11  FuelType           304823 non-null  object        \n",
      " 12  Brand              304823 non-null  object        \n",
      " 13  Repaired           304823 non-null  object        \n",
      " 14  DateCreated        304823 non-null  datetime64[ns]\n",
      " 15  PostalCode         304823 non-null  int64         \n",
      " 16  LastSeen           304823 non-null  object        \n",
      "dtypes: datetime64[ns](2), int64(8), object(7)\n",
      "memory usage: 41.9+ MB\n"
     ]
    },
    {
     "data": {
      "text/plain": [
       "None"
      ]
     },
     "metadata": {},
     "output_type": "display_data"
    },
    {
     "data": {
      "text/plain": [
       "'Количество явных дубликатов в датасете:0'"
      ]
     },
     "metadata": {},
     "output_type": "display_data"
    },
    {
     "data": {
      "text/plain": [
       "'Количество явных дубликатов в датасете после удаления:0'"
      ]
     },
     "metadata": {},
     "output_type": "display_data"
    }
   ],
   "source": [
    "dataset_info(autos, 'autos')"
   ]
  },
  {
   "cell_type": "markdown",
   "metadata": {},
   "source": [
    "###  Выводы\n",
    "В пустые ячейки внесены значения, наиболее встречающиеся для каждого бренда. "
   ]
  },
  {
   "cell_type": "code",
   "execution_count": 15,
   "metadata": {},
   "outputs": [],
   "source": [
    "autos['Model']=autos['Model'].fillna('unknown')"
   ]
  },
  {
   "cell_type": "code",
   "execution_count": 16,
   "metadata": {},
   "outputs": [],
   "source": [
    "autos = autos.drop(['DateCreated','DateCrawled','LastSeen'],axis=1)"
   ]
  },
  {
   "cell_type": "code",
   "execution_count": 17,
   "metadata": {},
   "outputs": [],
   "source": [
    "autos=autos.drop('index',axis=1)"
   ]
  },
  {
   "cell_type": "code",
   "execution_count": 18,
   "metadata": {},
   "outputs": [
    {
     "name": "stderr",
     "output_type": "stream",
     "text": [
      "/opt/conda/lib/python3.9/site-packages/phik/data_quality.py:59: UserWarning: The number of unique values of variable PostalCode is large: 8118. Are you sure this is not an interval variable? Analysis for pairs of variables including PostalCode can be slow.\n",
      "  warnings.warn(\n",
      "/opt/conda/lib/python3.9/site-packages/phik/bivariate.py:241: UserWarning: Many cells: 2021382. Are interval variables set correctly?\n",
      "  warnings.warn(\n"
     ]
    },
    {
     "data": {
      "image/png": "[encoded data removed]",
      "text/plain": [
       "<Figure size 1080x720 with 2 Axes>"
      ]
     },
     "metadata": {
      "needs_background": "light"
     },
     "output_type": "display_data"
    }
   ],
   "source": [
    "autos=autos.drop('level_0',axis=1)\n",
    "\n",
    "interval_cols = ['Price', 'Power'] \n",
    "phik_matrix = autos.phik_matrix(interval_cols =interval_cols)\n",
    "plt.figure(figsize=(15, 10))\n",
    "sns.heatmap(phik_matrix, annot=True, fmt=\".2f\", cmap='coolwarm')\n",
    "plt.title(\"Тепловая карта коэффициентов корреляции\")\n",
    "plt.show()"
   ]
  },
  {
   "cell_type": "markdown",
   "metadata": {},
   "source": [
    "###  Выводы\n",
    "\n",
    "По тепловой карте коэффициентов корреляции можно сделать вывод, что наименьшее влияние на цену оказывают почтовый индекс и месяц регистрации. Наибольшее влияние оказывает год регистрации и модель автомобиля"
   ]
  },
  {
   "cell_type": "markdown",
   "metadata": {},
   "source": [
    "## Обучение моделей"
   ]
  },
  {
   "cell_type": "code",
   "execution_count": 19,
   "metadata": {},
   "outputs": [],
   "source": [
    "RANDOM_STATE=42\n",
    "TEST_SIZE=0.2\n",
    "data_ML=autos[['Price', 'VehicleType', 'RegistrationYear', 'Gearbox',\n",
    "       'Power', 'Model', 'Kilometer', 'FuelType', 'Brand',\n",
    "       'Repaired']].copy().drop_duplicates()"
   ]
  },
  {
   "cell_type": "code",
   "execution_count": 20,
   "metadata": {},
   "outputs": [],
   "source": [
    "X_train, X_test, y_train, y_test = train_test_split(\n",
    "    data_ML.drop('Price', axis=1),\n",
    "    data_ML['Price'],\n",
    "    test_size = TEST_SIZE, \n",
    "    random_state = RANDOM_STATE)\n",
    "X_train, X_valid, y_train, y_valid = train_test_split(X_train, y_train, test_size = TEST_SIZE, \n",
    "random_state = RANDOM_STATE)\n",
    "\n",
    "numbers = data_ML.drop('Price', axis=1).select_dtypes(include=['int64', 'float64']).columns.tolist()\n",
    "categories = data_ML.drop('Price', axis=1).select_dtypes(include=['object']).columns.tolist()\n",
    "\n",
    "\n",
    "encoder = OrdinalEncoder(handle_unknown='use_encoded_value', unknown_value=-1)\n",
    "X_train_ohe = encoder.fit_transform(X_train[categories])\n",
    "X_test_ohe = encoder.transform(X_test[categories])\n",
    "X_valid_ohe = encoder.transform(X_valid[categories])\n",
    "\n",
    "encoder_col_names = encoder.get_feature_names_out()\n",
    "X_train_ohe = pd.DataFrame(X_train_ohe, columns=encoder_col_names)\n",
    "X_test_ohe = pd.DataFrame(X_test_ohe, columns=encoder_col_names)\n",
    "X_valid_ohe = pd.DataFrame(X_valid_ohe, columns=encoder_col_names)\n",
    "\n",
    "encoder = OneHotEncoder(drop='first', sparse_output=False,handle_unknown='ignore')\n",
    "X_train_ohe_lr = encoder.fit_transform(X_train[categories])\n",
    "X_test_ohe_lr = encoder.transform(X_test[categories])\n",
    "X_valid_ohe_lr= encoder.transform(X_valid[categories])\n",
    "\n",
    "encoder_col_names = encoder.get_feature_names_out()\n",
    "X_train_ohe_lr = pd.DataFrame(X_train_ohe_lr, columns=encoder_col_names)\n",
    "X_test_ohe_lr= pd.DataFrame(X_test_ohe_lr, columns=encoder_col_names)\n",
    "X_valid_ohe_lr= pd.DataFrame(X_valid_ohe_lr, columns=encoder_col_names)\n",
    "\n",
    "scaler = StandardScaler()\n",
    "X_train_scaled = scaler.fit_transform(X_train[numbers])\n",
    "X_test_scaled = scaler.transform(X_test[numbers])\n",
    "X_valid_scaled = scaler.transform(X_valid[numbers])\n",
    "\n",
    "X_train_scaled = pd.DataFrame(X_train_scaled, columns=numbers)\n",
    "X_test_scaled = pd.DataFrame(X_test_scaled, columns=numbers)\n",
    "X_valid_scaled = pd.DataFrame(X_valid_scaled, columns=numbers)\n",
    "\n",
    "X_train = pd.concat([X_train_ohe, X_train_scaled], axis=1)\n",
    "X_test = pd.concat([X_test_ohe, X_test_scaled], axis=1)\n",
    "X_valid = pd.concat([X_valid_ohe, X_valid_scaled], axis=1)\n",
    "\n",
    "X_train_lr = pd.concat([X_train_ohe_lr, X_train_scaled], axis=1)\n",
    "X_test_lr = pd.concat([X_test_ohe_lr, X_test_scaled], axis=1)\n",
    "X_valid_lr= pd.concat([X_valid_ohe_lr, X_valid_scaled], axis=1)\n"
   ]
  },
  {
   "cell_type": "code",
   "execution_count": 21,
   "metadata": {},
   "outputs": [],
   "source": [
    "start_time = time.time()\n",
    "\n",
    "score =[]\n",
    "\n",
    "for hyperparam1 in [True, False]:\n",
    "    for hyperparam2 in [True, False]:\n",
    "        for hyperparam3 in [1, -1]:\n",
    "            model_LR = LinearRegression(copy_X=hyperparam1,fit_intercept=hyperparam2,n_jobs=hyperparam3)\n",
    "            model_LR.fit(X_train_lr,y_train)\n",
    "            target_predict = model_LR.predict(X_valid_lr)\n",
    "            RMSE_LR = mean_squared_error( y_valid,target_predict) ** 0.5\n",
    "            score.append((RMSE_LR, hyperparam1, hyperparam2,hyperparam3))\n",
    "            \n",
    "best_lr=min(score)\n",
    "\n",
    "model_LR = LinearRegression(copy_X=best_lr[1],fit_intercept=best_lr[2],n_jobs=best_lr[3])\n",
    "\n",
    "model_LR.fit(X_train_lr, y_train)\n",
    "\n",
    "end_time = time.time()\n",
    "\n",
    "education_time_LR = end_time - start_time\n",
    "\n",
    "start_time = time.time()\n",
    "target_predict = model_LR .predict(X_valid_lr)\n",
    "end_time = time.time()\n",
    "prediction_time_LR = end_time - start_time\n",
    "RMSE_LR = mean_squared_error(y_valid,target_predict) ** 0.5"
   ]
  },
  {
   "cell_type": "code",
   "execution_count": 22,
   "metadata": {},
   "outputs": [],
   "source": [
    "start_time = time.time()\n",
    "model_DT = DecisionTreeRegressor(criterion='friedman_mse', \n",
    "                              max_depth=15, \n",
    "                              random_state=RANDOM_STATE) \n",
    "model_DT.fit(X_train, y_train)\n",
    "end_time = time.time()\n",
    "education_time_DT = end_time - start_time\n",
    "\n",
    "start_time = time.time()\n",
    "target_predict = model_DT.predict(X_valid)\n",
    "end_time = time.time()\n",
    "prediction_time_DT = end_time - start_time\n",
    "RMSE_DT = mean_squared_error( y_valid,target_predict) ** 0.5   "
   ]
  },
  {
   "cell_type": "code",
   "execution_count": 23,
   "metadata": {},
   "outputs": [],
   "source": [
    "start_time = time.time()\n",
    "model_R = Ridge(solver='svd',random_state=RANDOM_STATE)\n",
    "model_R.fit(X_train, y_train)\n",
    "end_time = time.time()\n",
    "education_time_R = end_time - start_time\n",
    "\n",
    "start_time = time.time()\n",
    "target_predict = model_R.predict(X_valid)\n",
    "end_time = time.time()\n",
    "prediction_time_R = end_time - start_time\n",
    "RMSE_R= mean_squared_error( y_valid,target_predict) ** 0.5"
   ]
  },
  {
   "cell_type": "markdown",
   "metadata": {},
   "source": [
    "<div class=\"alert alert-block alert-danger\">\n",
    "<h2> Комментарий ревьюера <a class=\"tocSkip\"></h2>\n",
    "\n",
    "    \n",
    "<b>На доработку❌:</b> У модели не настроен `random_state`."
   ]
  },
  {
   "cell_type": "markdown",
   "metadata": {},
   "source": [
    "<div class=\"alert alert-info\">\n",
    "<h2> Комментарий студента <a class=\"tocSkip\"> </h2>\n",
    "\n",
    "Исправлено\n",
    "</div>"
   ]
  },
  {
   "cell_type": "markdown",
   "metadata": {},
   "source": [
    "<div class=\"alert alert-success\">\n",
    "<h2> Комментарий ревьюера v.2 <a class=\"tocSkip\"> </h2>\n",
    "\n",
    "<b>Все отлично!👍:</b> Учтено."
   ]
  },
  {
   "cell_type": "code",
   "execution_count": 24,
   "metadata": {},
   "outputs": [],
   "source": [
    "start_time = time.time()\n",
    "model_CB = CatBoostRegressor(learning_rate=0.5, \n",
    "                          random_state=RANDOM_STATE, \n",
    "                          verbose=False) \n",
    "model_CB.fit(X_train, y_train)\n",
    "end_time = time.time()\n",
    "education_time_CB = end_time - start_time\n",
    "\n",
    "start_time = time.time()\n",
    "target_predict = model_CB.predict(X_valid)\n",
    "end_time = time.time()\n",
    "prediction_time_CB = end_time - start_time\n",
    "RMSE_CB = mean_squared_error( y_valid,target_predict) ** 0.5"
   ]
  },
  {
   "cell_type": "code",
   "execution_count": 25,
   "metadata": {},
   "outputs": [
    {
     "name": "stdout",
     "output_type": "stream",
     "text": [
      "[LightGBM] [Info] Auto-choosing row-wise multi-threading, the overhead of testing was 0.003068 seconds.\n",
      "You can set `force_row_wise=true` to remove the overhead.\n",
      "And if memory is not enough, you can set `force_col_wise=true`.\n",
      "[LightGBM] [Info] Total Bins 613\n",
      "[LightGBM] [Info] Number of data points in the train set: 162503, number of used features: 9\n",
      "[LightGBM] [Info] Start training from score 4966.662782\n"
     ]
    }
   ],
   "source": [
    "start_time = time.time()\n",
    "model_LGBM = LGBMRegressor(learning_rate=0.1, \n",
    "                      num_leaves=200, \n",
    "                      random_state=RANDOM_STATE)\n",
    "model_LGBM.fit(X_train, y_train)\n",
    "end_time = time.time()\n",
    "education_time_LGBM = end_time - start_time\n",
    "\n",
    "start_time = time.time()\n",
    "target_predict = model_LGBM.predict(X_valid)\n",
    "end_time = time.time()\n",
    "prediction_time_LGBM = end_time - start_time\n",
    "RMSE_LGBM = mean_squared_error( y_valid,target_predict) ** 0.5"
   ]
  },
  {
   "cell_type": "markdown",
   "metadata": {},
   "source": [
    "###  Выводы\n",
    "Обучены разные модели: LinearRegression,DecisionTreeRegressor,Ridge,CatBoostRegressor,LightGBM"
   ]
  },
  {
   "cell_type": "markdown",
   "metadata": {},
   "source": [
    "## Анализ моделей"
   ]
  },
  {
   "cell_type": "code",
   "execution_count": 26,
   "metadata": {},
   "outputs": [
    {
     "data": {
      "text/html": [
       "<div>\n",
       "<style scoped>\n",
       "    .dataframe tbody tr th:only-of-type {\n",
       "        vertical-align: middle;\n",
       "    }\n",
       "\n",
       "    .dataframe tbody tr th {\n",
       "        vertical-align: top;\n",
       "    }\n",
       "\n",
       "    .dataframe thead th {\n",
       "        text-align: right;\n",
       "    }\n",
       "</style>\n",
       "<table border=\"1\" class=\"dataframe\">\n",
       "  <thead>\n",
       "    <tr style=\"text-align: right;\">\n",
       "      <th></th>\n",
       "      <th>RMSE</th>\n",
       "      <th>education_time</th>\n",
       "      <th>prediction_time</th>\n",
       "    </tr>\n",
       "  </thead>\n",
       "  <tbody>\n",
       "    <tr>\n",
       "      <th>LinearRegression</th>\n",
       "      <td>2728.031446</td>\n",
       "      <td>30.895684</td>\n",
       "      <td>0.015374</td>\n",
       "    </tr>\n",
       "    <tr>\n",
       "      <th>DecisionTreeRegressor</th>\n",
       "      <td>1942.083350</td>\n",
       "      <td>0.338446</td>\n",
       "      <td>0.005316</td>\n",
       "    </tr>\n",
       "    <tr>\n",
       "      <th>Ridge</th>\n",
       "      <td>3074.944330</td>\n",
       "      <td>0.020987</td>\n",
       "      <td>0.001066</td>\n",
       "    </tr>\n",
       "    <tr>\n",
       "      <th>CatBoostRegressor</th>\n",
       "      <td>1641.178342</td>\n",
       "      <td>6.214774</td>\n",
       "      <td>0.012331</td>\n",
       "    </tr>\n",
       "    <tr>\n",
       "      <th>LGBM</th>\n",
       "      <td>1639.482417</td>\n",
       "      <td>0.830766</td>\n",
       "      <td>0.096053</td>\n",
       "    </tr>\n",
       "  </tbody>\n",
       "</table>\n",
       "</div>"
      ],
      "text/plain": [
       "                              RMSE  education_time  prediction_time\n",
       "LinearRegression       2728.031446       30.895684         0.015374\n",
       "DecisionTreeRegressor  1942.083350        0.338446         0.005316\n",
       "Ridge                  3074.944330        0.020987         0.001066\n",
       "CatBoostRegressor      1641.178342        6.214774         0.012331\n",
       "LGBM                   1639.482417        0.830766         0.096053"
      ]
     },
     "metadata": {},
     "output_type": "display_data"
    }
   ],
   "source": [
    "index = ['LinearRegression',\n",
    "         'DecisionTreeRegressor',\n",
    "         'Ridge',\n",
    "         'CatBoostRegressor',\n",
    "        'LGBM']\n",
    "data = {'RMSE':[RMSE_LR,RMSE_DT,RMSE_R,RMSE_CB,RMSE_LGBM],'education_time':[education_time_LR,education_time_DT,education_time_R,education_time_CB,education_time_LGBM],'prediction_time':[prediction_time_LR,prediction_time_DT,prediction_time_R,prediction_time_CB,prediction_time_LGBM]}\n",
    "display(pd.DataFrame(data=data, index=index))"
   ]
  },
  {
   "cell_type": "code",
   "execution_count": 27,
   "metadata": {},
   "outputs": [
    {
     "data": {
      "text/plain": [
       "'prediction_time_LGBM_test '"
      ]
     },
     "metadata": {},
     "output_type": "display_data"
    },
    {
     "data": {
      "text/plain": [
       "0.12260317802429199"
      ]
     },
     "metadata": {},
     "output_type": "display_data"
    },
    {
     "data": {
      "text/plain": [
       "'RMSE_LGBM_test '"
      ]
     },
     "metadata": {},
     "output_type": "display_data"
    },
    {
     "data": {
      "text/plain": [
       "1628.6731235114025"
      ]
     },
     "metadata": {},
     "output_type": "display_data"
    }
   ],
   "source": [
    "start_time = time.time()\n",
    "target_predict = model_LGBM.predict(X_test)\n",
    "end_time = time.time()\n",
    "prediction_time_LGBM_test = end_time - start_time\n",
    "\n",
    "RMSE_LGBM_test = mean_squared_error( y_test,target_predict) ** 0.5\n",
    "\n",
    "display('prediction_time_LGBM_test ',prediction_time_LGBM_test)\n",
    "display('RMSE_LGBM_test ',RMSE_LGBM_test)"
   ]
  },
  {
   "cell_type": "markdown",
   "metadata": {},
   "source": [
    "###  Выводы\n",
    "По результатам анализа моделей можно сделать вывод, что величина RMSE самая низкая (1639) у LightGBM,  время обучения составляет 0.84. \n",
    "Стоит остановить выбор на данной модели. Время выполнения составило 0,11 секунд, RMSE 1628"
   ]
  },
  {
   "cell_type": "markdown",
   "metadata": {},
   "source": [
    "#  ОБЩИЕ ВЫВОДЫ:\n",
    "\n",
    "По результатам загрузки файла можно сделать выводы, что требуется изменение форматов некоторых столбцов, присутствуют явные дубликаты (удалены 4шт), большое количество пустых ячеек (предварительно пока строки с ними удалять не будем, а далее заменим наиболее часто встречающимся в категории бренда)\n",
    "\n",
    "В датафрейме присутствуют обьявления без цены ,мощностью более 1500,годом регистрации старшее 2024, столбец 'NumberOfPictures' не содержит уникальных значений. Удалим данные аномалии\n",
    "\n",
    "В пустые ячейки внесены значения, наиболее встречающиеся для каждого бренда. \n",
    "\n",
    "Обучены разные модели: LinearRegression,DecisionTreeRegressor,Ridge,CatBoostRegressor,LightGBM\n",
    "\n",
    "По результатам анализа моделей можно сделать вывод, что величина RMSE самая низкая (1639) у LightGBM,  время обучения составляет 0.84. \n",
    "Стоит остановить выбор на данной модели. Время выполнения составило 0,11 секунд, RMSE 1628"
   ]
  }
 ],
 "metadata": {
  "ExecuteTimeLog": [
   {
    "duration": 53334,
    "start_time": "2024-07-07T14:48:55.155Z"
   },
   {
    "duration": 5692,
    "start_time": "2024-07-07T14:49:48.491Z"
   },
   {
    "duration": 3477,
    "start_time": "2024-07-07T14:49:54.185Z"
   },
   {
    "duration": 1782,
    "start_time": "2024-07-07T14:49:57.663Z"
   },
   {
    "duration": 4,
    "start_time": "2024-07-07T14:49:59.448Z"
   },
   {
    "duration": 1928,
    "start_time": "2024-07-07T14:49:59.453Z"
   },
   {
    "duration": 5,
    "start_time": "2024-07-07T14:50:01.383Z"
   },
   {
    "duration": 4343,
    "start_time": "2024-07-07T14:50:01.389Z"
   },
   {
    "duration": 76,
    "start_time": "2024-07-07T14:50:05.734Z"
   },
   {
    "duration": 3,
    "start_time": "2024-07-08T11:23:15.133Z"
   },
   {
    "duration": 3494,
    "start_time": "2024-07-08T11:23:15.138Z"
   },
   {
    "duration": 3257,
    "start_time": "2024-07-08T11:23:18.635Z"
   },
   {
    "duration": 1610,
    "start_time": "2024-07-08T11:23:21.894Z"
   },
   {
    "duration": 4,
    "start_time": "2024-07-08T11:23:23.505Z"
   },
   {
    "duration": 1553,
    "start_time": "2024-07-08T11:23:23.510Z"
   },
   {
    "duration": 4,
    "start_time": "2024-07-08T11:23:25.064Z"
   },
   {
    "duration": 3866,
    "start_time": "2024-07-08T11:23:25.070Z"
   },
   {
    "duration": 72,
    "start_time": "2024-07-08T11:23:28.937Z"
   },
   {
    "duration": 100348,
    "start_time": "2024-07-08T11:23:29.011Z"
   },
   {
    "duration": 117,
    "start_time": "2024-07-08T11:25:09.361Z"
   },
   {
    "duration": 51,
    "start_time": "2024-07-08T11:25:09.479Z"
   },
   {
    "duration": 6978,
    "start_time": "2024-07-08T11:25:09.532Z"
   },
   {
    "duration": 937,
    "start_time": "2024-07-08T11:25:16.511Z"
   },
   {
    "duration": 14,
    "start_time": "2024-07-08T11:25:17.449Z"
   },
   {
    "duration": 38,
    "start_time": "2024-07-08T11:25:17.464Z"
   },
   {
    "duration": 17,
    "start_time": "2024-07-08T11:25:17.503Z"
   },
   {
    "duration": 125788,
    "start_time": "2024-07-08T11:25:17.522Z"
   }
  ],
  "kernelspec": {
   "display_name": "Python 3 (ipykernel)",
   "language": "python",
   "name": "python3"
  },
  "language_info": {
   "codemirror_mode": {
    "name": "ipython",
    "version": 3
   },
   "file_extension": ".py",
   "mimetype": "text/x-python",
   "name": "python",
   "nbconvert_exporter": "python",
   "pygments_lexer": "ipython3",
   "version": "3.11.5"
  },
  "toc": {
   "base_numbering": 1,
   "nav_menu": {},
   "number_sections": true,
   "sideBar": true,
   "skip_h1_title": true,
   "title_cell": "Table of Contents",
   "title_sidebar": "Contents",
   "toc_cell": false,
   "toc_position": {},
   "toc_section_display": true,
   "toc_window_display": false
  }
 },
 "nbformat": 4,
 "nbformat_minor": 2
}
